{
 "cells": [
  {
   "cell_type": "code",
   "execution_count": 43,
   "metadata": {},
   "outputs": [],
   "source": [
    "import pandas as pd\n",
    "import seaborn as sns\n",
    "import matplotlib.pyplot as plt\n",
    "import numpy as np\n",
    "from scipy import stats\n",
    "np.random.seed(seed=42)\n",
    "\n",
    "from collections import Counter"
   ]
  },
  {
   "cell_type": "code",
   "execution_count": 65,
   "metadata": {},
   "outputs": [
    {
     "data": {
      "text/plain": [
       "<matplotlib.axes._subplots.AxesSubplot at 0x1a1b0ab990>"
      ]
     },
     "execution_count": 65,
     "metadata": {},
     "output_type": "execute_result"
    },
    {
     "data": {
      "image/png": "[encoded data removed]",
      "text/plain": [
       "<Figure size 432x288 with 1 Axes>"
      ]
     },
     "metadata": {
      "needs_background": "light"
     },
     "output_type": "display_data"
    }
   ],
   "source": [
    "# Let's start with a binomial random variables\n",
    "n = 3\n",
    "p = 0.50 # probability of heads (or probability of a '1')\n",
    "r = stats.binom.rvs(n, p, size=100000)\n",
    "\n",
    "sns.countplot(r)"
   ]
  },
  {
   "cell_type": "code",
   "execution_count": 62,
   "metadata": {},
   "outputs": [
    {
     "data": {
      "text/plain": [
       "100000"
      ]
     },
     "execution_count": 62,
     "metadata": {},
     "output_type": "execute_result"
    }
   ],
   "source": [
    "len(r)"
   ]
  },
  {
   "cell_type": "code",
   "execution_count": 64,
   "metadata": {},
   "outputs": [
    {
     "name": "stdout",
     "output_type": "stream",
     "text": [
      "\n",
      " min=0\n",
      " max=3\n",
      " median=2.0\n",
      " mean=1.53244\n",
      " std=0.8617395617880865\n",
      "\n"
     ]
    }
   ],
   "source": [
    "print(f\"\\n min={np.min(r)}\\n max={np.max(r)}\\n median={np.median(r)}\\n mean={np.mean(r)}\\n std={np.std(r, ddof=1)}\\n\" )"
   ]
  },
  {
   "cell_type": "code",
   "execution_count": null,
   "metadata": {},
   "outputs": [],
   "source": []
  },
  {
   "cell_type": "code",
   "execution_count": 73,
   "metadata": {},
   "outputs": [
    {
     "data": {
      "text/plain": [
       "array([[0, 1, 1, 2, 3, 1, 2, 0, 1, 2, 0, 1, 1, 1, 1, 1, 2, 2, 0, 2, 1, 1,\n",
       "        1, 1, 2, 2, 1, 2, 2, 2, 1, 3, 2, 2, 2, 0, 0, 3, 1, 1],\n",
       "       [1, 0, 1, 1, 1, 2, 2, 1, 1, 0, 1, 1, 2, 1, 3, 2, 3, 0, 2, 0, 1, 2,\n",
       "        2, 2, 1, 1, 3, 1, 1, 1, 2, 1, 2, 2, 1, 2, 1, 1, 1, 3],\n",
       "       [1, 2, 1, 1, 0, 1, 0, 2, 0, 1, 2, 2, 1, 1, 1, 0, 2, 2, 1, 1, 2, 0,\n",
       "        1, 2, 1, 1, 1, 3, 0, 2, 3, 2, 2, 0, 2, 2, 1, 1, 0, 1],\n",
       "       [3, 1, 0, 1, 2, 2, 2, 3, 0, 2, 1, 2, 1, 2, 1, 2, 3, 0, 3, 1, 2, 2,\n",
       "        2, 2, 2, 1, 1, 1, 2, 2, 2, 3, 2, 0, 2, 1, 2, 2, 0, 1],\n",
       "       [1, 2, 2, 1, 1, 2, 2, 1, 1, 1, 1, 2, 1, 1, 2, 3, 1, 1, 2, 1, 1, 0,\n",
       "        1, 2, 2, 1, 0, 0, 2, 0, 2, 0, 2, 2, 1, 2, 1, 2, 3, 0],\n",
       "       [2, 1, 3, 3, 1, 0, 2, 2, 3, 3, 1, 1, 0, 1, 1, 2, 1, 2, 1, 2, 3, 2,\n",
       "        2, 1, 2, 1, 1, 1, 1, 2, 1, 1, 2, 0, 0, 1, 1, 0, 2, 1],\n",
       "       [0, 0, 2, 2, 1, 2, 2, 2, 3, 3, 1, 3, 2, 2, 2, 2, 2, 1, 1, 1, 3, 0,\n",
       "        1, 3, 2, 2, 1, 2, 1, 2, 1, 1, 0, 2, 3, 3, 1, 0, 0, 2],\n",
       "       [3, 3, 1, 3, 2, 1, 0, 3, 1, 3, 1, 2, 3, 2, 2, 1, 1, 1, 2, 1, 3, 2,\n",
       "        1, 1, 3, 3, 1, 0, 1, 0, 1, 1, 1, 2, 1, 1, 1, 1, 0, 3],\n",
       "       [1, 2, 2, 1, 3, 3, 2, 3, 2, 2, 1, 2, 3, 2, 0, 1, 1, 3, 1, 1, 2, 3,\n",
       "        2, 2, 2, 2, 1, 1, 1, 1, 3, 2, 1, 3, 2, 1, 1, 1, 1, 1],\n",
       "       [2, 1, 1, 1, 3, 2, 0, 2, 0, 1, 2, 1, 2, 0, 2, 2, 1, 1, 2, 0, 2, 2,\n",
       "        1, 1, 3, 1, 3, 2, 2, 1, 1, 1, 1, 2, 1, 1, 1, 2, 2, 2]])"
      ]
     },
     "execution_count": 73,
     "metadata": {},
     "output_type": "execute_result"
    }
   ],
   "source": [
    "# Let's tell 10 people do flips of 40 coins three times each\n",
    "n = 3\n",
    "p = 0.50\n",
    "r = stats.binom.rvs(n, p, size=(10,40))\n",
    "r"
   ]
  },
  {
   "cell_type": "code",
   "execution_count": null,
   "metadata": {},
   "outputs": [],
   "source": []
  },
  {
   "cell_type": "code",
   "execution_count": 74,
   "metadata": {},
   "outputs": [
    {
     "name": "stdout",
     "output_type": "stream",
     "text": [
      "[1.35  1.4   1.225 1.6   1.325 1.425 1.6   1.575 1.725 1.45 ]\n"
     ]
    }
   ],
   "source": [
    "# now let's compute the sample means and plot them\n",
    "\n",
    "print(np.mean(r, axis=1)) #means for each of the ten samples\n"
   ]
  },
  {
   "cell_type": "code",
   "execution_count": 75,
   "metadata": {},
   "outputs": [
    {
     "data": {
      "text/plain": [
       "<matplotlib.axes._subplots.AxesSubplot at 0x1a1af26e50>"
      ]
     },
     "execution_count": 75,
     "metadata": {},
     "output_type": "execute_result"
    },
    {
     "data": {
      "image/png": "[encoded data removed]",
      "text/plain": [
       "<Figure size 432x288 with 1 Axes>"
      ]
     },
     "metadata": {
      "needs_background": "light"
     },
     "output_type": "display_data"
    }
   ],
   "source": [
    "sns.distplot(np.mean(r, axis=1), kde=False) "
   ]
  },
  {
   "cell_type": "code",
   "execution_count": null,
   "metadata": {},
   "outputs": [],
   "source": []
  },
  {
   "cell_type": "code",
   "execution_count": 76,
   "metadata": {},
   "outputs": [
    {
     "name": "stdout",
     "output_type": "stream",
     "text": [
      "[1.6   1.6   1.6   1.625 1.425 1.575 1.4   1.325 1.45  1.65  1.525 1.475\n",
      " 1.525 1.325 1.35  1.575 1.525 1.425 1.325 1.45 ]\n"
     ]
    },
    {
     "data": {
      "text/plain": [
       "<matplotlib.axes._subplots.AxesSubplot at 0x1a1b31fb50>"
      ]
     },
     "execution_count": 76,
     "metadata": {},
     "output_type": "execute_result"
    },
    {
     "data": {
      "image/png": "[encoded data removed]",
      "text/plain": [
       "<Figure size 432x288 with 1 Axes>"
      ]
     },
     "metadata": {
      "needs_background": "light"
     },
     "output_type": "display_data"
    }
   ],
   "source": [
    "# Now let's do 20 means\n",
    "r = stats.binom.rvs(n, p, size=(20,40))\n",
    "print(np.mean(r, axis=1)) #means for each of the ten samples\n",
    "sns.distplot(np.mean(r, axis=1), kde=False) "
   ]
  },
  {
   "cell_type": "code",
   "execution_count": null,
   "metadata": {},
   "outputs": [],
   "source": []
  },
  {
   "cell_type": "code",
   "execution_count": 77,
   "metadata": {},
   "outputs": [
    {
     "name": "stdout",
     "output_type": "stream",
     "text": [
      "[1.675 1.425 1.55  1.775 1.3   1.35  1.55  1.2   1.8   1.475 1.525 1.625\n",
      " 1.425 1.475 1.325 1.575 1.525 1.3   1.2   1.425 1.475 1.525 1.625 1.4\n",
      " 1.675 1.6   1.35  1.375 1.675 1.425 1.475 1.425 1.475 1.7   1.45  1.475\n",
      " 1.4   1.675 1.75  1.525 1.3   1.625 1.325 1.85  1.375 1.7   1.425 1.45\n",
      " 1.525 1.475]\n"
     ]
    },
    {
     "data": {
      "text/plain": [
       "<matplotlib.axes._subplots.AxesSubplot at 0x1a1a369190>"
      ]
     },
     "execution_count": 77,
     "metadata": {},
     "output_type": "execute_result"
    },
    {
     "data": {
      "image/png": "[encoded data removed]",
      "text/plain": [
       "<Figure size 432x288 with 1 Axes>"
      ]
     },
     "metadata": {
      "needs_background": "light"
     },
     "output_type": "display_data"
    }
   ],
   "source": [
    "# 50 means\n",
    "r = stats.binom.rvs(n, p, size=(50,40))\n",
    "print(np.mean(r, axis=1)) #means for each of the 50 samples\n",
    "sns.distplot(np.mean(r, axis=1), kde=False) "
   ]
  },
  {
   "cell_type": "code",
   "execution_count": null,
   "metadata": {},
   "outputs": [],
   "source": []
  },
  {
   "cell_type": "code",
   "execution_count": 78,
   "metadata": {},
   "outputs": [
    {
     "name": "stdout",
     "output_type": "stream",
     "text": [
      "[1.575 1.6   1.475 1.45  1.575 1.375 1.15  1.475 1.625 1.525 1.8   1.575\n",
      " 1.525 1.4   1.275 1.35  1.5   1.55  1.6   1.575 1.5   1.3   1.3   1.325\n",
      " 1.325 1.875 1.55  1.425 1.525 1.25  1.525 1.65  1.525 1.45  1.35  1.35\n",
      " 1.575 1.7   1.5   1.575 1.425 1.575 1.45  1.575 1.725 1.55  1.675 1.45\n",
      " 1.125 1.65  1.45  1.4   1.375 1.675 1.65  1.275 1.45  1.4   1.225 1.55\n",
      " 1.275 1.45  1.4   1.425 1.675 1.45  1.575 1.55  1.5   1.425 1.65  1.25\n",
      " 1.65  1.8   1.425 1.725 1.4   1.625 1.35  1.6   1.45  1.425 1.5   1.55\n",
      " 1.475 1.475 1.425 1.425 1.775 1.425 1.675 1.575 1.575 1.575 1.375 1.475\n",
      " 1.6   1.725 1.475 1.525]\n"
     ]
    },
    {
     "data": {
      "text/plain": [
       "<matplotlib.axes._subplots.AxesSubplot at 0x1a1a654550>"
      ]
     },
     "execution_count": 78,
     "metadata": {},
     "output_type": "execute_result"
    },
    {
     "data": {
      "image/png": "[encoded data removed]",
      "text/plain": [
       "<Figure size 432x288 with 1 Axes>"
      ]
     },
     "metadata": {
      "needs_background": "light"
     },
     "output_type": "display_data"
    }
   ],
   "source": [
    "# 100 means\n",
    "r = stats.binom.rvs(n, p, size=(100,40))\n",
    "print(np.mean(r, axis=1)) #means for each of the 100 samples\n",
    "sns.distplot(np.mean(r, axis=1), kde=False) "
   ]
  },
  {
   "cell_type": "code",
   "execution_count": null,
   "metadata": {},
   "outputs": [],
   "source": []
  },
  {
   "cell_type": "code",
   "execution_count": 82,
   "metadata": {},
   "outputs": [
    {
     "data": {
      "text/plain": [
       "<matplotlib.axes._subplots.AxesSubplot at 0x1a1b853390>"
      ]
     },
     "execution_count": 82,
     "metadata": {},
     "output_type": "execute_result"
    },
    {
     "data": {
      "image/png": "[encoded data removed]",
      "text/plain": [
       "<Figure size 432x288 with 1 Axes>"
      ]
     },
     "metadata": {
      "needs_background": "light"
     },
     "output_type": "display_data"
    }
   ],
   "source": [
    "# 500 means\n",
    "r = stats.binom.rvs(n, p, size=(500,40))\n",
    "# print(np.mean(r, axis=1)) #means for each of the 500 samples\n",
    "sns.distplot(np.mean(r, axis=1)) "
   ]
  },
  {
   "cell_type": "code",
   "execution_count": null,
   "metadata": {},
   "outputs": [],
   "source": []
  },
  {
   "cell_type": "code",
   "execution_count": 81,
   "metadata": {},
   "outputs": [
    {
     "data": {
      "text/plain": [
       "<matplotlib.axes._subplots.AxesSubplot at 0x1a1b68fa50>"
      ]
     },
     "execution_count": 81,
     "metadata": {},
     "output_type": "execute_result"
    },
    {
     "data": {
      "image/png": "[encoded data removed]",
      "text/plain": [
       "<Figure size 432x288 with 1 Axes>"
      ]
     },
     "metadata": {
      "needs_background": "light"
     },
     "output_type": "display_data"
    }
   ],
   "source": [
    "# 2000 means\n",
    "r = stats.binom.rvs(n, p, size=(2000,40))\n",
    "# print(np.mean(r, axis=1)) #means for each of the 2000 samples\n",
    "sns.distplot(np.mean(r, axis=1)) "
   ]
  },
  {
   "cell_type": "code",
   "execution_count": null,
   "metadata": {},
   "outputs": [],
   "source": []
  },
  {
   "cell_type": "code",
   "execution_count": null,
   "metadata": {},
   "outputs": [],
   "source": []
  },
  {
   "cell_type": "code",
   "execution_count": 89,
   "metadata": {},
   "outputs": [
    {
     "data": {
      "text/plain": [
       "<matplotlib.axes._subplots.AxesSubplot at 0x1a1c3358d0>"
      ]
     },
     "execution_count": 89,
     "metadata": {},
     "output_type": "execute_result"
    },
    {
     "data": {
      "image/png": "[encoded data removed]",
      "text/plain": [
       "<Figure size 432x288 with 1 Axes>"
      ]
     },
     "metadata": {
      "needs_background": "light"
     },
     "output_type": "display_data"
    }
   ],
   "source": [
    "# Let's start with a binomial random variables\n",
    "n = 5\n",
    "p = 0.5 \n",
    "r = stats.binom.rvs(n, p, size=100000)\n",
    "\n",
    "sns.countplot(r)"
   ]
  },
  {
   "cell_type": "code",
   "execution_count": 83,
   "metadata": {},
   "outputs": [
    {
     "data": {
      "text/plain": [
       "<matplotlib.axes._subplots.AxesSubplot at 0x1a1b68f690>"
      ]
     },
     "execution_count": 83,
     "metadata": {},
     "output_type": "execute_result"
    },
    {
     "data": {
      "image/png": "[encoded data removed]",
      "text/plain": [
       "<Figure size 432x288 with 1 Axes>"
      ]
     },
     "metadata": {
      "needs_background": "light"
     },
     "output_type": "display_data"
    }
   ],
   "source": [
    "# 2000 means\n",
    "n = 5\n",
    "p = 0.5 \n",
    "r = stats.binom.rvs(n, p, size=(2000,40))\n",
    "# print(np.mean(r, axis=1)) #means for each of the 2000 samples\n",
    "sns.distplot(np.mean(r, axis=1), kde=True) "
   ]
  },
  {
   "cell_type": "code",
   "execution_count": null,
   "metadata": {},
   "outputs": [],
   "source": []
  },
  {
   "cell_type": "code",
   "execution_count": 84,
   "metadata": {},
   "outputs": [
    {
     "data": {
      "text/plain": [
       "<matplotlib.axes._subplots.AxesSubplot at 0x1a1ba2ef90>"
      ]
     },
     "execution_count": 84,
     "metadata": {},
     "output_type": "execute_result"
    },
    {
     "data": {
      "image/png": "[encoded data removed]",
      "text/plain": [
       "<Figure size 432x288 with 1 Axes>"
      ]
     },
     "metadata": {
      "needs_background": "light"
     },
     "output_type": "display_data"
    }
   ],
   "source": [
    "# Let's start with a binomial random variables\n",
    "n = 10\n",
    "p = 0.5 \n",
    "r = stats.binom.rvs(n, p, size=100000)\n",
    "\n",
    "sns.countplot(r)"
   ]
  },
  {
   "cell_type": "code",
   "execution_count": null,
   "metadata": {},
   "outputs": [],
   "source": []
  },
  {
   "cell_type": "code",
   "execution_count": 19,
   "metadata": {},
   "outputs": [
    {
     "data": {
      "text/plain": [
       "<matplotlib.axes._subplots.AxesSubplot at 0x1a16b38690>"
      ]
     },
     "execution_count": 19,
     "metadata": {},
     "output_type": "execute_result"
    },
    {
     "data": {
      "image/png": "[encoded data removed]",
      "text/plain": [
       "<Figure size 432x288 with 1 Axes>"
      ]
     },
     "metadata": {
      "needs_background": "light"
     },
     "output_type": "display_data"
    }
   ],
   "source": [
    "# 2000 means\n",
    "n = 10\n",
    "p = 0.5 \n",
    "r = stats.binom.rvs(n, p, size=(2000,40))\n",
    "# print(np.mean(r, axis=1)) #means for each of the 2000 samples\n",
    "sns.distplot(np.mean(r, axis=1), kde=False) "
   ]
  },
  {
   "cell_type": "code",
   "execution_count": null,
   "metadata": {},
   "outputs": [],
   "source": []
  },
  {
   "cell_type": "code",
   "execution_count": 85,
   "metadata": {},
   "outputs": [
    {
     "data": {
      "text/plain": [
       "<matplotlib.axes._subplots.AxesSubplot at 0x1a1aaea3d0>"
      ]
     },
     "execution_count": 85,
     "metadata": {},
     "output_type": "execute_result"
    },
    {
     "data": {
      "image/png": "[encoded data removed]",
      "text/plain": [
       "<Figure size 432x288 with 1 Axes>"
      ]
     },
     "metadata": {
      "needs_background": "light"
     },
     "output_type": "display_data"
    }
   ],
   "source": [
    "# 2000 means, with sample size of 100\n",
    "n = 10\n",
    "p = 0.5 \n",
    "r = stats.binom.rvs(n, p, size=(2000,100))\n",
    "# print(np.mean(r, axis=1)) #means for each of the 2000 samples\n",
    "sns.distplot(np.mean(r, axis=1), kde=False) "
   ]
  },
  {
   "cell_type": "code",
   "execution_count": 86,
   "metadata": {},
   "outputs": [
    {
     "data": {
      "text/plain": [
       "(0, 5.000875, 10)"
      ]
     },
     "execution_count": 86,
     "metadata": {},
     "output_type": "execute_result"
    }
   ],
   "source": [
    "np.min(r), np.mean(r), np.max(r)"
   ]
  },
  {
   "cell_type": "code",
   "execution_count": 87,
   "metadata": {},
   "outputs": [
    {
     "data": {
      "text/plain": [
       "5.0"
      ]
     },
     "execution_count": 87,
     "metadata": {},
     "output_type": "execute_result"
    }
   ],
   "source": [
    "n*p"
   ]
  },
  {
   "cell_type": "code",
   "execution_count": null,
   "metadata": {},
   "outputs": [],
   "source": []
  },
  {
   "cell_type": "markdown",
   "metadata": {},
   "source": [
    "Uniform Distribution - Continuous Uniform distribution"
   ]
  },
  {
   "cell_type": "code",
   "execution_count": 90,
   "metadata": {},
   "outputs": [
    {
     "data": {
      "text/plain": [
       "<matplotlib.axes._subplots.AxesSubplot at 0x1a1c32cfd0>"
      ]
     },
     "execution_count": 90,
     "metadata": {},
     "output_type": "execute_result"
    },
    {
     "data": {
      "image/png": "[encoded data removed]",
      "text/plain": [
       "<Figure size 432x288 with 1 Axes>"
      ]
     },
     "metadata": {
      "needs_background": "light"
     },
     "output_type": "display_data"
    }
   ],
   "source": [
    "# 30 means, with sample size of 50\n",
    "\n",
    "r = stats.uniform.rvs(size=(30,50))\n",
    "\n",
    "# print(np.mean(r, axis=1)) #means for each of the 30 samples\n",
    "sns.distplot(np.mean(r, axis=1), kde=False) "
   ]
  },
  {
   "cell_type": "code",
   "execution_count": 91,
   "metadata": {},
   "outputs": [
    {
     "data": {
      "text/plain": [
       "(0.0005221243733734005, 0.4981763795194061, 0.9998017961328929)"
      ]
     },
     "execution_count": 91,
     "metadata": {},
     "output_type": "execute_result"
    }
   ],
   "source": [
    "np.min(r), np.mean(r), np.max(r)"
   ]
  },
  {
   "cell_type": "code",
   "execution_count": 92,
   "metadata": {},
   "outputs": [
    {
     "data": {
      "text/plain": [
       "<matplotlib.axes._subplots.AxesSubplot at 0x1a1c22c050>"
      ]
     },
     "execution_count": 92,
     "metadata": {},
     "output_type": "execute_result"
    },
    {
     "data": {
      "image/png": "[encoded data removed]",
      "text/plain": [
       "<Figure size 432x288 with 1 Axes>"
      ]
     },
     "metadata": {
      "needs_background": "light"
     },
     "output_type": "display_data"
    }
   ],
   "source": [
    "# 100 means, with sample size of 50\n",
    "\n",
    "r = stats.uniform.rvs(size=(100,50))\n",
    "# print(np.mean(r, axis=1)) #means for each of the 100 samples\n",
    "sns.distplot(np.mean(r, axis=1), kde=False) "
   ]
  },
  {
   "cell_type": "code",
   "execution_count": null,
   "metadata": {},
   "outputs": [],
   "source": []
  },
  {
   "cell_type": "code",
   "execution_count": 27,
   "metadata": {},
   "outputs": [
    {
     "data": {
      "text/plain": [
       "<matplotlib.axes._subplots.AxesSubplot at 0x1a18dc74d0>"
      ]
     },
     "execution_count": 27,
     "metadata": {},
     "output_type": "execute_result"
    },
    {
     "data": {
      "image/png": "[encoded data removed]",
      "text/plain": [
       "<Figure size 432x288 with 1 Axes>"
      ]
     },
     "metadata": {
      "needs_background": "light"
     },
     "output_type": "display_data"
    }
   ],
   "source": [
    "# 200 means, with sample size of 50\n",
    "\n",
    "r = stats.uniform.rvs(size=(200,50))\n",
    "# print(np.mean(r, axis=1)) #means for each of the 200 samples\n",
    "sns.distplot(np.mean(r, axis=1), kde=False) "
   ]
  },
  {
   "cell_type": "code",
   "execution_count": null,
   "metadata": {},
   "outputs": [],
   "source": []
  },
  {
   "cell_type": "code",
   "execution_count": 29,
   "metadata": {},
   "outputs": [
    {
     "data": {
      "text/plain": [
       "<matplotlib.axes._subplots.AxesSubplot at 0x1a18fd4290>"
      ]
     },
     "execution_count": 29,
     "metadata": {},
     "output_type": "execute_result"
    },
    {
     "data": {
      "image/png": "[encoded data removed]",
      "text/plain": [
       "<Figure size 432x288 with 1 Axes>"
      ]
     },
     "metadata": {
      "needs_background": "light"
     },
     "output_type": "display_data"
    }
   ],
   "source": [
    "# 1000 means, with sample size of 50\n",
    "\n",
    "r = stats.uniform.rvs(size=(1000,50))\n",
    "# print(np.mean(r, axis=1)) #means for each of the 1000 samples\n",
    "sns.distplot(np.mean(r, axis=1), kde=False) "
   ]
  },
  {
   "cell_type": "code",
   "execution_count": null,
   "metadata": {},
   "outputs": [],
   "source": []
  },
  {
   "cell_type": "code",
   "execution_count": 28,
   "metadata": {},
   "outputs": [
    {
     "data": {
      "text/plain": [
       "<matplotlib.axes._subplots.AxesSubplot at 0x1a16b33bd0>"
      ]
     },
     "execution_count": 28,
     "metadata": {},
     "output_type": "execute_result"
    },
    {
     "data": {
      "image/png": "[encoded data removed]",
      "text/plain": [
       "<Figure size 432x288 with 1 Axes>"
      ]
     },
     "metadata": {
      "needs_background": "light"
     },
     "output_type": "display_data"
    }
   ],
   "source": [
    "# 2000 means, with sample size of 50\n",
    "\n",
    "r = stats.uniform.rvs(size=(2000,50))\n",
    "# print(np.mean(r, axis=1)) #means for each of the 2000 samples\n",
    "sns.distplot(np.mean(r, axis=1), kde=False) "
   ]
  },
  {
   "cell_type": "code",
   "execution_count": null,
   "metadata": {},
   "outputs": [],
   "source": []
  },
  {
   "cell_type": "code",
   "execution_count": 32,
   "metadata": {},
   "outputs": [
    {
     "data": {
      "text/plain": [
       "<matplotlib.axes._subplots.AxesSubplot at 0x1a192c6210>"
      ]
     },
     "execution_count": 32,
     "metadata": {},
     "output_type": "execute_result"
    },
    {
     "data": {
      "image/png": "[encoded data removed]",
      "text/plain": [
       "<Figure size 432x288 with 1 Axes>"
      ]
     },
     "metadata": {
      "needs_background": "light"
     },
     "output_type": "display_data"
    }
   ],
   "source": [
    "# 2000 means, with sample size of 100\n",
    "\n",
    "r = stats.uniform.rvs(size=(2000,100))\n",
    "# print(np.mean(r, axis=1)) #means for each of the 2000 samples\n",
    "sns.distplot(np.mean(r, axis=1), kde=False) "
   ]
  },
  {
   "cell_type": "code",
   "execution_count": null,
   "metadata": {},
   "outputs": [],
   "source": []
  },
  {
   "cell_type": "code",
   "execution_count": null,
   "metadata": {},
   "outputs": [],
   "source": []
  },
  {
   "cell_type": "markdown",
   "metadata": {},
   "source": [
    "t distribution"
   ]
  },
  {
   "cell_type": "code",
   "execution_count": null,
   "metadata": {},
   "outputs": [],
   "source": []
  },
  {
   "cell_type": "code",
   "execution_count": 93,
   "metadata": {},
   "outputs": [
    {
     "data": {
      "text/plain": [
       "<matplotlib.axes._subplots.AxesSubplot at 0x1a1c315210>"
      ]
     },
     "execution_count": 93,
     "metadata": {},
     "output_type": "execute_result"
    },
    {
     "data": {
      "image/png": "[encoded data removed]",
      "text/plain": [
       "<Figure size 432x288 with 1 Axes>"
      ]
     },
     "metadata": {
      "needs_background": "light"
     },
     "output_type": "display_data"
    }
   ],
   "source": [
    "# 100 means, with sample size of 25 of t distribution with df = 3\n",
    "\n",
    "r = stats.t.rvs(df = 3, size = (100,25))\n",
    "# print(np.mean(r, axis=1)) #means for each of the 2000 samples\n",
    "sns.distplot(np.mean(r, axis=1), kde=False) "
   ]
  },
  {
   "cell_type": "code",
   "execution_count": 35,
   "metadata": {},
   "outputs": [
    {
     "data": {
      "text/plain": [
       "<matplotlib.axes._subplots.AxesSubplot at 0x1a1964e790>"
      ]
     },
     "execution_count": 35,
     "metadata": {},
     "output_type": "execute_result"
    },
    {
     "data": {
      "image/png": "[encoded data removed]",
      "text/plain": [
       "<Figure size 432x288 with 1 Axes>"
      ]
     },
     "metadata": {
      "needs_background": "light"
     },
     "output_type": "display_data"
    }
   ],
   "source": [
    "# 2000 means, with sample size of 100 of t distribution with df = 3\n",
    "\n",
    "r = stats.t.rvs(df = 3, size = (2000,100))\n",
    "# print(np.mean(r, axis=1)) #means for each of the 2000 samples\n",
    "sns.distplot(np.mean(r, axis=1), kde=False) "
   ]
  },
  {
   "cell_type": "code",
   "execution_count": null,
   "metadata": {},
   "outputs": [],
   "source": []
  },
  {
   "cell_type": "markdown",
   "metadata": {},
   "source": [
    "Exponential distribution"
   ]
  },
  {
   "cell_type": "code",
   "execution_count": 94,
   "metadata": {},
   "outputs": [
    {
     "data": {
      "text/plain": [
       "<matplotlib.axes._subplots.AxesSubplot at 0x1a1c0a8190>"
      ]
     },
     "execution_count": 94,
     "metadata": {},
     "output_type": "execute_result"
    },
    {
     "data": {
      "image/png": "[encoded data removed]",
      "text/plain": [
       "<Figure size 432x288 with 1 Axes>"
      ]
     },
     "metadata": {
      "needs_background": "light"
     },
     "output_type": "display_data"
    }
   ],
   "source": [
    "r = stats.expon.rvs(scale=2, size=100000)\n",
    "sns.distplot(r, kde=False)"
   ]
  },
  {
   "cell_type": "code",
   "execution_count": 95,
   "metadata": {},
   "outputs": [
    {
     "data": {
      "text/plain": [
       "<matplotlib.axes._subplots.AxesSubplot at 0x1a1c697590>"
      ]
     },
     "execution_count": 95,
     "metadata": {},
     "output_type": "execute_result"
    },
    {
     "data": {
      "image/png": "[encoded data removed]",
      "text/plain": [
       "<Figure size 432x288 with 1 Axes>"
      ]
     },
     "metadata": {
      "needs_background": "light"
     },
     "output_type": "display_data"
    }
   ],
   "source": [
    "# 2000 means, with sample size of 100 of exponential distribution with scale = 1\n",
    "\n",
    "r = stats.expon.rvs(scale = 2, size = (2000,100))\n",
    "# print(np.mean(r, axis=1)) #means for each of the 2000 samples\n",
    "sns.distplot(np.mean(r, axis=1), kde=False) "
   ]
  },
  {
   "cell_type": "code",
   "execution_count": null,
   "metadata": {},
   "outputs": [],
   "source": []
  },
  {
   "cell_type": "code",
   "execution_count": null,
   "metadata": {},
   "outputs": [],
   "source": []
  },
  {
   "cell_type": "code",
   "execution_count": null,
   "metadata": {},
   "outputs": [],
   "source": []
  },
  {
   "cell_type": "code",
   "execution_count": null,
   "metadata": {},
   "outputs": [],
   "source": []
  }
 ],
 "metadata": {
  "kernelspec": {
   "display_name": "Python 3",
   "language": "python",
   "name": "python3"
  },
  "language_info": {
   "codemirror_mode": {
    "name": "ipython",
    "version": 3
   },
   "file_extension": ".py",
   "mimetype": "text/x-python",
   "name": "python",
   "nbconvert_exporter": "python",
   "pygments_lexer": "ipython3",
   "version": "3.7.7"
  }
 },
 "nbformat": 4,
 "nbformat_minor": 4
}
