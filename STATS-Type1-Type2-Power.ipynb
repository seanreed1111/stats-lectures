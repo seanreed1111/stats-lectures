{
 "cells": [
  {
   "cell_type": "code",
   "execution_count": 1,
   "metadata": {},
   "outputs": [],
   "source": [
    "import pandas as pd\n",
    "import seaborn as sns\n",
    "import matplotlib.pyplot as plt\n",
    "import numpy as np\n",
    "from scipy import stats\n",
    "np.random.seed(seed=42)\n",
    "\n",
    "from collections import Counter"
   ]
  },
  {
   "cell_type": "markdown",
   "metadata": {},
   "source": [
    "## Type 1 Errors, Type 2 Errors"
   ]
  },
  {
   "cell_type": "code",
   "execution_count": null,
   "metadata": {},
   "outputs": [],
   "source": []
  },
  {
   "cell_type": "markdown",
   "metadata": {},
   "source": [
    "**Type I Error**: To **REJECT** the null hypothesis when there is in fact no effect \n",
    "\n",
    "YOU SHOULD NOT HAVE REJECTED THE NULL HYPOTHESIS, BUT YOU DID IT ANYWAY. Oops.\n",
    "\n",
    "This is known as a **FALSE POSITIVE**. \n",
    "\n",
    "\n",
    "\n",
    "\n",
    "-----\n",
    "\n",
    "**Type II Error**: To **FAIL TO REJECT** the null hypothesis when there is a significant effect.\n",
    "\n",
    "YOU SHOULD HAVE REJECTED THE NULL HYPOTHESIS, BUT YOU DID NOT. Oops I did it again.\n",
    "\n",
    "This is known as a **FALSE NEGATIVE**. \n",
    "\n",
    "-----\n",
    "\n",
    "\n",
    "\n",
    "source: https://machinelearningmastery.com/statistical-power-and-power-analysis-in-python/"
   ]
  },
  {
   "cell_type": "code",
   "execution_count": null,
   "metadata": {},
   "outputs": [],
   "source": []
  },
  {
   "cell_type": "markdown",
   "metadata": {},
   "source": [
    "In this context, we can think of the significance level **alpha** as **the probability of rejecting the null hypothesis if it were true**. \n",
    "\n",
    "That is, the significance level **alpha** is the probability of making a **Type I Error** (**FALSE POSITIVE**). "
   ]
  },
  {
   "cell_type": "markdown",
   "metadata": {},
   "source": [
    "### **Power** is the ability of a test to **correctly reject** the null hypothesis in favor of the alternative hypothesis when the null hypothesis is False"
   ]
  },
  {
   "cell_type": "code",
   "execution_count": null,
   "metadata": {},
   "outputs": [],
   "source": [
    "Statistical power, or the power of a hypothesis test is the probability that the test correctly rejects the null hypothesis."
   ]
  },
  {
   "cell_type": "code",
   "execution_count": 16,
   "metadata": {},
   "outputs": [
    {
     "ename": "SyntaxError",
     "evalue": "invalid syntax (<ipython-input-16-501d7aba11e8>, line 1)",
     "output_type": "error",
     "traceback": [
      "\u001b[0;36m  File \u001b[0;32m\"<ipython-input-16-501d7aba11e8>\"\u001b[0;36m, line \u001b[0;32m1\u001b[0m\n\u001b[0;31m    That is, power is the probability of a TRUE POSITIVE result.\u001b[0m\n\u001b[0m           ^\u001b[0m\n\u001b[0;31mSyntaxError\u001b[0m\u001b[0;31m:\u001b[0m invalid syntax\n"
     ]
    }
   ],
   "source": [
    "That is, power is the probability of a TRUE POSITIVE result. \n",
    "It is only useful when the null hypothesis is rejected."
   ]
  },
  {
   "cell_type": "markdown",
   "metadata": {},
   "source": [
    "Statistical power is the probability that a test will correctly reject a null hypothesis."
   ]
  },
  {
   "cell_type": "code",
   "execution_count": null,
   "metadata": {},
   "outputs": [],
   "source": []
  },
  {
   "cell_type": "markdown",
   "metadata": {},
   "source": [
    "The higher the statistical power for a given experiment, the lower the probability of making a Type II (FALSE NEGATIVE) error. \n",
    "\n",
    "The higher the statistical power for a given experiment, the higher the probability of detecting an effect when there is an effect. \n",
    "\n",
    "Power = 1 - Prob(Type 2 error)."
   ]
  },
  {
   "cell_type": "code",
   "execution_count": null,
   "metadata": {},
   "outputs": [],
   "source": []
  },
  {
   "cell_type": "markdown",
   "metadata": {},
   "source": [
    "### An ASIDE to explain the meanings of TRUE POSITIVE, TRUE NEGATIVE, FALSE POSITIVE, and FALSE NEGATIVE."
   ]
  },
  {
   "cell_type": "markdown",
   "metadata": {},
   "source": [
    "**FALSE** means your model got it **WRONG**. \n",
    "\n",
    "You made a model using your data, and the hypothesis test you ran **INCORRECTLY** told you to reject (or to fail to reject) the null hypothesis\n",
    "\n",
    "Your model was dead **WRONG**.\n",
    "\n",
    "Dang."
   ]
  },
  {
   "cell_type": "code",
   "execution_count": null,
   "metadata": {},
   "outputs": [],
   "source": []
  },
  {
   "cell_type": "markdown",
   "metadata": {},
   "source": [
    "**TRUE** means your model got it **RIGHT**. \n",
    "\n",
    "You made a model using your data, and the hypothesis test you ran **CORRECTLY**\n",
    "told you whether to reject, or to fail to reject the null hypothesis.\n",
    "\n",
    "Your model did **great** job.\n",
    "\n",
    "Hooray!"
   ]
  },
  {
   "cell_type": "code",
   "execution_count": null,
   "metadata": {},
   "outputs": [],
   "source": []
  },
  {
   "cell_type": "markdown",
   "metadata": {},
   "source": [
    "**NEGATIVE** means your model thought the null hypothesis explained the data better."
   ]
  },
  {
   "cell_type": "code",
   "execution_count": null,
   "metadata": {},
   "outputs": [],
   "source": []
  },
  {
   "cell_type": "markdown",
   "metadata": {},
   "source": [
    "**POSITIVE** means your model said the alternative hypothesis explained the data better."
   ]
  },
  {
   "cell_type": "code",
   "execution_count": null,
   "metadata": {},
   "outputs": [],
   "source": []
  },
  {
   "cell_type": "markdown",
   "metadata": {},
   "source": [
    "Why are they called POSITIVE AND NEGATIVE?? It's just convention.\n",
    "\n",
    "When your model finds **something super exciting and interesting** it is considered a **POSITIVE** result. Positive results are relatively rare and exciting, and maybe you can publish a paper on how brilliant you are when your research is done.\n",
    "\n",
    "If your model finds the **same old ordinary thing that everyone else already knows**, i.e. the NULL HYPOTHESIS, it is considered a **NEGATIVE** result. \n",
    "\n",
    "Sometimes as a researcher you feel like \"Who wants to read a paper where I say 'I didn't find anything interesting'? Maybe I should just go home and have a beer and forget this day ever happened.\" \n"
   ]
  },
  {
   "cell_type": "code",
   "execution_count": null,
   "metadata": {},
   "outputs": [],
   "source": []
  },
  {
   "cell_type": "code",
   "execution_count": null,
   "metadata": {},
   "outputs": [],
   "source": [
    "So, who understands TRUE POSITIVE, TRUE NEGATIVE, FALSE POSITIVE, and FALSE NEGATIVE now?"
   ]
  },
  {
   "cell_type": "code",
   "execution_count": null,
   "metadata": {},
   "outputs": [],
   "source": [
    "TRUE POSITIVE    = alternative explains it better, and your model got it right!!! "
   ]
  },
  {
   "cell_type": "code",
   "execution_count": null,
   "metadata": {},
   "outputs": [],
   "source": [
    "TRUE NEGATIVE   = null hypothesis explains the data better, and your model got it right!!!"
   ]
  },
  {
   "cell_type": "code",
   "execution_count": null,
   "metadata": {},
   "outputs": [],
   "source": [
    "FALSE POSITIVE = alternative hypothesis explains the data better  --- and your model got it wrong "
   ]
  },
  {
   "cell_type": "code",
   "execution_count": null,
   "metadata": {},
   "outputs": [],
   "source": [
    "FALSE NEGATIVE =  null hypothesis explains the data better --- and your model got it wrong \n"
   ]
  },
  {
   "cell_type": "markdown",
   "metadata": {},
   "source": [
    "## End of Aside"
   ]
  },
  {
   "cell_type": "code",
   "execution_count": null,
   "metadata": {},
   "outputs": [],
   "source": []
  },
  {
   "cell_type": "code",
   "execution_count": null,
   "metadata": {},
   "outputs": [],
   "source": []
  },
  {
   "cell_type": "markdown",
   "metadata": {},
   "source": [
    "## Separate and much more IMPORTANT philosophical question: \n",
    "\n",
    "## Can you **ever** know when you are **correctly rejecting** the null hypothesis in favor of the alternative hypothesis???? \n",
    "\n",
    "### Discuss."
   ]
  },
  {
   "cell_type": "code",
   "execution_count": null,
   "metadata": {},
   "outputs": [],
   "source": []
  },
  {
   "cell_type": "code",
   "execution_count": null,
   "metadata": {},
   "outputs": [],
   "source": []
  },
  {
   "cell_type": "markdown",
   "metadata": {},
   "source": [
    "Sample problem using alpha, Type 1 error, Type 2 error, and Power"
   ]
  },
  {
   "cell_type": "markdown",
   "metadata": {},
   "source": [
    "Suppose we needed to use a one-tailed t-test with alpha = 0.05 and df = 20"
   ]
  },
  {
   "cell_type": "code",
   "execution_count": 10,
   "metadata": {},
   "outputs": [
    {
     "data": {
      "text/plain": [
       "<matplotlib.axes._subplots.AxesSubplot at 0x1a21aadc10>"
      ]
     },
     "execution_count": 10,
     "metadata": {},
     "output_type": "execute_result"
    },
    {
     "data": {
      "image/png": "[encoded data removed]",
      "text/plain": [
       "<Figure size 432x288 with 1 Axes>"
      ]
     },
     "metadata": {
      "needs_background": "light"
     },
     "output_type": "display_data"
    }
   ],
   "source": [
    "df = 20\n",
    "alpha = 0.05\n",
    "#df, alpha = 20, 0.05\n",
    "\n",
    "\n",
    "cutoff = stats.t.ppf(1 - alpha, df=df) #Approximately 1.69\n",
    "\n",
    "# If our test statistic falls to the RIGHT of the cutoff, i.e. >1.69, we'd reject the null hypothesis\n",
    "plt.axvline(cutoff,0,1)\n",
    "sns.distplot(stats.t.rvs(df=df, size=400000), kde=False)"
   ]
  },
  {
   "cell_type": "markdown",
   "metadata": {},
   "source": [
    "Question: What is our MAXIMUM Type 1 error for this problem?"
   ]
  },
  {
   "cell_type": "markdown",
   "metadata": {
    "jupyter": {
     "source_hidden": true
    }
   },
   "source": [
    "ALPHA is the region to the right of the cutoff\n",
    "In this region we reject the null hypothesis.\n",
    "Type 1 Error is when we REJECT the null hypothesis when we should really *NOT* reject the null hypothesis\n",
    "Therefore, our Type 1 ERROR IS ALPHA."
   ]
  },
  {
   "cell_type": "markdown",
   "metadata": {},
   "source": [
    "Question: What is our Type 2 error for this problem?"
   ]
  },
  {
   "cell_type": "code",
   "execution_count": null,
   "metadata": {
    "jupyter": {
     "source_hidden": true
    }
   },
   "outputs": [],
   "source": [
    "Unknown. We need to make some more assumptions first."
   ]
  },
  {
   "cell_type": "code",
   "execution_count": null,
   "metadata": {},
   "outputs": [],
   "source": [
    "Question: What is our POWER for this problem?"
   ]
  },
  {
   "cell_type": "code",
   "execution_count": null,
   "metadata": {
    "jupyter": {
     "source_hidden": true
    }
   },
   "outputs": [],
   "source": [
    "Unknown. We need to make some more assumptions first."
   ]
  },
  {
   "cell_type": "code",
   "execution_count": null,
   "metadata": {},
   "outputs": [],
   "source": [
    "QUESTION: HOW ARE POWER AND TYPE 2 Error Related?"
   ]
  },
  {
   "cell_type": "markdown",
   "metadata": {
    "jupyter": {
     "source_hidden": true
    }
   },
   "source": [
    "Power = 1 - Prob(Type II error)."
   ]
  },
  {
   "cell_type": "code",
   "execution_count": null,
   "metadata": {},
   "outputs": [],
   "source": [
    "QUESTION: What additional information do we need to figure out our type 2 error and our power???"
   ]
  },
  {
   "cell_type": "markdown",
   "metadata": {
    "jupyter": {
     "source_hidden": true
    }
   },
   "source": [
    "No answer here. Dang."
   ]
  },
  {
   "cell_type": "code",
   "execution_count": null,
   "metadata": {},
   "outputs": [],
   "source": []
  },
  {
   "cell_type": "code",
   "execution_count": null,
   "metadata": {},
   "outputs": [],
   "source": []
  },
  {
   "cell_type": "code",
   "execution_count": null,
   "metadata": {},
   "outputs": [],
   "source": []
  },
  {
   "cell_type": "code",
   "execution_count": null,
   "metadata": {},
   "outputs": [],
   "source": []
  },
  {
   "cell_type": "markdown",
   "metadata": {},
   "source": [
    "### Power Analysis"
   ]
  },
  {
   "cell_type": "markdown",
   "metadata": {},
   "source": [
    "**Statistical Power** is the probability of CORRECTLY rejecting the null hypotheses, \n",
    "WHICH WE NOW KNOW IS THE SAME THING AS getting a TRUE POSITIVE!"
   ]
  },
  {
   "cell_type": "code",
   "execution_count": null,
   "metadata": {},
   "outputs": [],
   "source": []
  },
  {
   "cell_type": "code",
   "execution_count": null,
   "metadata": {},
   "outputs": [],
   "source": [
    "QUESTION: If Statistical Power is a TRUE POSITIVE, what is a TYPE 2 ERROR?"
   ]
  },
  {
   "cell_type": "code",
   "execution_count": null,
   "metadata": {},
   "outputs": [],
   "source": []
  },
  {
   "cell_type": "markdown",
   "metadata": {},
   "source": [
    "Statistical power is one piece in a puzzle that has three other related parts; they are:\n",
    "\n",
    "**Effect Size**. The quantified magnitude of a result present in the population. Effect size is calculated using a specific statistical measure, such as Pearson’s correlation coefficient for the relationship between variables or Cohen’s d for the difference between groups.\n",
    "\n",
    "**Sample Size**. The number of observations in the sample.\n",
    "\n",
    "**Significance Level aka ALPHA**. The significance level used in the statistical test. Often set to 0.05 or 0.1.\n",
    "\n",
    "\n",
    "All four variables are related. For example, a larger sample size can make an effect easier to detect, and the statistical power can be increased in a test by increasing the significance level.\n",
    "\n"
   ]
  },
  {
   "cell_type": "code",
   "execution_count": null,
   "metadata": {},
   "outputs": [],
   "source": []
  },
  {
   "cell_type": "markdown",
   "metadata": {},
   "source": [
    "It is common to design experiments with a statistical power of 80% or better, e.g. 0.80. This means a 20% probability of encountering a Type II area.\n",
    "\n",
    "A power analysis involves estimating one of these four parameters given values for three other parameters. This is a powerful tool in both the design and in the analysis of experiments that we wish to interpret using statistical hypothesis tests.\n",
    "\n",
    "For example, the statistical power can be estimated given an effect size, sample size and significance level. Alternately, the sample size can be estimated given different desired levels of significance."
   ]
  },
  {
   "cell_type": "code",
   "execution_count": null,
   "metadata": {},
   "outputs": [],
   "source": []
  }
 ],
 "metadata": {
  "kernelspec": {
   "display_name": "Python 3",
   "language": "python",
   "name": "python3"
  },
  "language_info": {
   "codemirror_mode": {
    "name": "ipython",
    "version": 3
   },
   "file_extension": ".py",
   "mimetype": "text/x-python",
   "name": "python",
   "nbconvert_exporter": "python",
   "pygments_lexer": "ipython3",
   "version": "3.7.7"
  }
 },
 "nbformat": 4,
 "nbformat_minor": 4
}
