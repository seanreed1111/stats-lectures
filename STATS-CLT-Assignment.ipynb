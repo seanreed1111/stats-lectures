{
 "cells": [
  {
   "cell_type": "markdown",
   "metadata": {},
   "source": [
    "Activity for CLT\n",
    "The CLT is good for all distributions.\n",
    "\n",
    "Work in groups. \n",
    "\n",
    "Look up the 'beta distribution' on wikipedia and the internets. (Note: it is not the same as the beta function!) Functions using the beta distribution can be found in python in the scipy module via stats.beta\n"
   ]
  },
  {
   "cell_type": "markdown",
   "metadata": {},
   "source": [
    "Part 1: Explore the Beta Distribution\n",
    "The beta distribution has two parameter, a and b.\n",
    "\n",
    "Set a=1, b=1 and use stats.beta.rvs to generate size=20, size=50, size=1000, and size=100,000 random variables from the resulting beta distribution. \n",
    "\n",
    "Graph using seaborn's distplot function. What do you think the min, max, mean, and median of the beta distribution are (with a=1, b=1) as size gets infinitely large? \n",
    "\n",
    "Discuss your findings within your group.\n",
    "\n",
    "\n"
   ]
  },
  {
   "cell_type": "markdown",
   "metadata": {},
   "source": [
    "repeat the same for a =20, b = 20"
   ]
  },
  {
   "cell_type": "markdown",
   "metadata": {},
   "source": [
    "repeat the same for a = 5, b = 20"
   ]
  },
  {
   "cell_type": "markdown",
   "metadata": {},
   "source": [
    "repeat the same for a = 20, b = 5"
   ]
  },
  {
   "cell_type": "code",
   "execution_count": null,
   "metadata": {},
   "outputs": [],
   "source": []
  },
  {
   "cell_type": "markdown",
   "metadata": {},
   "source": [
    "Part 2: Apply the CLT to the Beta Distribution\n",
    "Using a=20 and b=20, generate 50, 100, 200, and 500 samples of length 30 each, find the means of each of the samples, and plot the sample means separately, using distplot. \n",
    "\n",
    "Do the plots of the distributions of the sample means look normal?\n",
    "\n",
    "\n",
    "\n"
   ]
  },
  {
   "cell_type": "markdown",
   "metadata": {},
   "source": [
    "Repeat for a=2, b=20"
   ]
  },
  {
   "cell_type": "markdown",
   "metadata": {},
   "source": [
    "Do you think samples of length 30 are big enough to guarantee that the sample means drawn from these distributions are approximately normal in the two cases above? Why or why not?"
   ]
  }
 ],
 "metadata": {
  "kernelspec": {
   "display_name": "Python 3",
   "language": "python",
   "name": "python3"
  },
  "language_info": {
   "codemirror_mode": {
    "name": "ipython",
    "version": 3
   },
   "file_extension": ".py",
   "mimetype": "text/x-python",
   "name": "python",
   "nbconvert_exporter": "python",
   "pygments_lexer": "ipython3",
   "version": "3.7.7"
  }
 },
 "nbformat": 4,
 "nbformat_minor": 4
}
